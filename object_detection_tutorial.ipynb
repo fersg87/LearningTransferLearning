{
 "cells": [
  {
   "cell_type": "markdown",
   "metadata": {},
   "source": [
    "# Object Detection Demo\n",
    "Welcome to the object detection inference walkthrough!  This notebook will walk you step by step through the process of using a pre-trained model to detect objects in an image. Make sure to follow the [installation instructions](https://github.com/tensorflow/models/blob/master/research/object_detection/g3doc/installation.md) before you start."
   ]
  },
  {
   "cell_type": "markdown",
   "metadata": {},
   "source": [
    "# Imports"
   ]
  },
  {
   "cell_type": "code",
   "execution_count": 2,
   "metadata": {
    "collapsed": true,
    "scrolled": true
   },
   "outputs": [],
   "source": [
    "import numpy as np\n",
    "import os\n",
    "import six.moves.urllib as urllib\n",
    "import sys\n",
    "import tarfile\n",
    "import tensorflow as tf\n",
    "import zipfile\n",
    "\n",
    "from collections import defaultdict\n",
    "from io import StringIO\n",
    "from matplotlib import pyplot as plt\n",
    "from PIL import Image"
   ]
  },
  {
   "cell_type": "markdown",
   "metadata": {},
   "source": [
    "## Env setup"
   ]
  },
  {
   "cell_type": "code",
   "execution_count": 3,
   "metadata": {
    "collapsed": true
   },
   "outputs": [],
   "source": [
    "# This is needed to display the images.\n",
    "%matplotlib inline\n",
    "\n",
    "# This is needed since the notebook is stored in the object_detection folder.\n",
    "sys.path.append(\"..\")"
   ]
  },
  {
   "cell_type": "markdown",
   "metadata": {},
   "source": [
    "## Object detection imports\n",
    "Here are the imports from the object detection module."
   ]
  },
  {
   "cell_type": "code",
   "execution_count": 4,
   "metadata": {},
   "outputs": [],
   "source": [
    "from utils import label_map_util\n",
    "\n",
    "from utils import visualization_utils as vis_util"
   ]
  },
  {
   "cell_type": "markdown",
   "metadata": {},
   "source": [
    "# Model preparation "
   ]
  },
  {
   "cell_type": "markdown",
   "metadata": {},
   "source": [
    "## Variables\n",
    "\n",
    "Any model exported using the `export_inference_graph.py` tool can be loaded here simply by changing `PATH_TO_CKPT` to point to a new .pb file.  \n",
    "\n",
    "By default we use an \"SSD with Mobilenet\" model here. See the [detection model zoo](https://github.com/tensorflow/models/blob/master/research/object_detection/g3doc/detection_model_zoo.md) for a list of other models that can be run out-of-the-box with varying speeds and accuracies."
   ]
  },
  {
   "cell_type": "code",
   "execution_count": 5,
   "metadata": {
    "collapsed": true
   },
   "outputs": [],
   "source": [
    "# What model to download.\n",
    "MODEL_NAME = 'ssd_mobilenet_v1_coco_11_06_2017'\n",
    "MODEL_FILE = MODEL_NAME + '.tar.gz'\n",
    "DOWNLOAD_BASE = 'http://download.tensorflow.org/models/object_detection/'\n",
    "\n",
    "# Path to frozen detection graph. This is the actual model that is used for the object detection.\n",
    "PATH_TO_CKPT = MODEL_NAME + '/frozen_inference_graph.pb'\n",
    "\n",
    "# List of the strings that is used to add correct label for each box.\n",
    "PATH_TO_LABELS = os.path.join('data', 'mscoco_label_map.pbtxt')\n",
    "\n",
    "NUM_CLASSES = 90"
   ]
  },
  {
   "cell_type": "markdown",
   "metadata": {},
   "source": [
    "## Download Model"
   ]
  },
  {
   "cell_type": "code",
   "execution_count": null,
   "metadata": {
    "collapsed": true
   },
   "outputs": [],
   "source": [
    "opener = urllib.request.URLopener()\n",
    "opener.retrieve(DOWNLOAD_BASE + MODEL_FILE, MODEL_FILE)\n",
    "tar_file = tarfile.open(MODEL_FILE)\n",
    "for file in tar_file.getmembers():\n",
    "  file_name = os.path.basename(file.name)\n",
    "  if 'frozen_inference_graph.pb' in file_name:\n",
    "    tar_file.extract(file, os.getcwd())"
   ]
  },
  {
   "cell_type": "markdown",
   "metadata": {},
   "source": [
    "## Load a (frozen) Tensorflow model into memory."
   ]
  },
  {
   "cell_type": "code",
   "execution_count": 7,
   "metadata": {
    "collapsed": true
   },
   "outputs": [],
   "source": [
    "detection_graph = tf.Graph()\n",
    "with detection_graph.as_default():\n",
    "  od_graph_def = tf.GraphDef()\n",
    "  with tf.gfile.GFile(PATH_TO_CKPT, 'rb') as fid:\n",
    "    serialized_graph = fid.read()\n",
    "    od_graph_def.ParseFromString(serialized_graph)\n",
    "    tf.import_graph_def(od_graph_def, name='')"
   ]
  },
  {
   "cell_type": "markdown",
   "metadata": {},
   "source": [
    "## Loading label map\n",
    "Label maps map indices to category names, so that when our convolution network predicts `5`, we know that this corresponds to `airplane`.  Here we use internal utility functions, but anything that returns a dictionary mapping integers to appropriate string labels would be fine"
   ]
  },
  {
   "cell_type": "code",
   "execution_count": 8,
   "metadata": {},
   "outputs": [],
   "source": [
    "label_map = label_map_util.load_labelmap(PATH_TO_LABELS)\n",
    "categories = label_map_util.convert_label_map_to_categories(label_map, max_num_classes=NUM_CLASSES, use_display_name=True)\n",
    "category_index = label_map_util.create_category_index(categories)"
   ]
  },
  {
   "cell_type": "code",
   "execution_count": 9,
   "metadata": {},
   "outputs": [
    {
     "name": "stdout",
     "output_type": "stream",
     "text": [
      "[{'id': 1, 'name': 'basketball'}]\n"
     ]
    }
   ],
   "source": [
    "print(categories)"
   ]
  },
  {
   "cell_type": "markdown",
   "metadata": {},
   "source": [
    "## Helper code"
   ]
  },
  {
   "cell_type": "code",
   "execution_count": 10,
   "metadata": {
    "collapsed": true
   },
   "outputs": [],
   "source": [
    "def load_image_into_numpy_array(image):\n",
    "  (im_width, im_height) = image.size\n",
    "  return np.array(image.getdata()).reshape(\n",
    "      (im_height, im_width, 3)).astype(np.uint8)"
   ]
  },
  {
   "cell_type": "markdown",
   "metadata": {},
   "source": [
    "# Detection"
   ]
  },
  {
   "cell_type": "code",
   "execution_count": 11,
   "metadata": {
    "collapsed": true
   },
   "outputs": [],
   "source": [
    "# For the sake of simplicity we will use only 2 images:\n",
    "# image1.jpg\n",
    "# image2.jpg\n",
    "# If you want to test the code with your images, just add path to the images to the TEST_IMAGE_PATHS.\n",
    "PATH_TO_TEST_IMAGES_DIR = 'test_images'\n",
    "TEST_IMAGE_PATHS = [ os.path.join(PATH_TO_TEST_IMAGES_DIR, 'image{}.jpg'.format(i)) for i in range(1, 3) ]\n",
    "#TEST_IMAGE_PATHS.extend([os.path.join(PATH_TO_TEST_IMAGES_DIR, 'dog_{}.jpeg'.format(i)) for i in range(1, 2)])\n",
    "TEST_IMAGE_PATHS.extend([os.path.join(PATH_TO_TEST_IMAGES_DIR, 'dog_{}.jpeg'.format(i)) for i in range(1, 2)])\n",
    "\n",
    "# Size, in inches, of the output images.\n",
    "IMAGE_SIZE = (12, 8)"
   ]
  },
  {
   "cell_type": "code",
   "execution_count": 12,
   "metadata": {},
   "outputs": [
    {
     "data": {
      "text/plain": [
       "['test_images\\\\image1.jpg',\n",
       " 'test_images\\\\image2.jpg',\n",
       " 'test_images\\\\dog_1.jpeg']"
      ]
     },
     "execution_count": 12,
     "metadata": {},
     "output_type": "execute_result"
    }
   ],
   "source": [
    "TEST_IMAGE_PATHS"
   ]
  },
  {
   "cell_type": "code",
   "execution_count": null,
   "metadata": {
    "scrolled": true
   },
   "outputs": [],
   "source": [
    "with detection_graph.as_default():\n",
    "  with tf.Session(graph=detection_graph) as sess:\n",
    "    # Definite input and output Tensors for detection_graph\n",
    "    image_tensor = detection_graph.get_tensor_by_name('image_tensor:0')\n",
    "    # Each box represents a part of the image where a particular object was detected.\n",
    "    detection_boxes = detection_graph.get_tensor_by_name('detection_boxes:0')\n",
    "    # Each score represent how level of confidence for each of the objects.\n",
    "    # Score is shown on the result image, together with the class label.\n",
    "    detection_scores = detection_graph.get_tensor_by_name('detection_scores:0')\n",
    "    detection_classes = detection_graph.get_tensor_by_name('detection_classes:0')\n",
    "    num_detections = detection_graph.get_tensor_by_name('num_detections:0')\n",
    "    for image_path in TEST_IMAGE_PATHS:\n",
    "      image = Image.open(image_path)\n",
    "      # the array based representation of the image will be used later in order to prepare the\n",
    "      # result image with boxes and labels on it.\n",
    "      image_np = load_image_into_numpy_array(image)\n",
    "      # Expand dimensions since the model expects images to have shape: [1, None, None, 3]\n",
    "      image_np_expanded = np.expand_dims(image_np, axis=0)\n",
    "      # Actual detection.\n",
    "      (boxes, scores, classes, num) = sess.run(\n",
    "          [detection_boxes, detection_scores, detection_classes, num_detections],\n",
    "          feed_dict={image_tensor: image_np_expanded})\n",
    "      # Visualization of the results of a detection.\n",
    "      vis_util.visualize_boxes_and_labels_on_image_array(\n",
    "          image_np,\n",
    "          np.squeeze(boxes),\n",
    "          np.squeeze(classes).astype(np.int32),\n",
    "          np.squeeze(scores),\n",
    "          category_index,\n",
    "          use_normalized_coordinates=True,\n",
    "          line_thickness=8)\n",
    "      plt.figure(figsize=IMAGE_SIZE)\n",
    "      plt.imshow(image_np)"
   ]
  },
  {
   "cell_type": "code",
   "execution_count": null,
   "metadata": {
    "collapsed": true
   },
   "outputs": [],
   "source": [
    "import cv2\n",
    "import numpy as np\n",
    "from matplotlib import pyplot as plt"
   ]
  },
  {
   "cell_type": "code",
   "execution_count": null,
   "metadata": {
    "collapsed": true
   },
   "outputs": [],
   "source": [
    "img = cv2.imread(os.path.join(PATH_TO_TEST_IMAGES_DIR, 'pug1.jpg'), cv2.IMREAD_GRAYSCALE)\n",
    "cv2.imshow('image', img)\n",
    "cv2.waitKey(0)\n",
    "cv2.destroyAllWindows()"
   ]
  },
  {
   "cell_type": "code",
   "execution_count": null,
   "metadata": {},
   "outputs": [],
   "source": [
    "plt.imshow(img, cmap='gray', interpolation='bicubic')\n",
    "plt.xticks([]), plt.yticks([])\n",
    "plt.plot([200, 300, 400], [200, 300, 300], 'c', linewidth=5)\n",
    "plt.show()"
   ]
  },
  {
   "cell_type": "code",
   "execution_count": null,
   "metadata": {},
   "outputs": [],
   "source": [
    "cap = cv2.VideoCapture(0)\n",
    "\n",
    "while(True):\n",
    "    ret, frame = cap.read()\n",
    "    gray = cv2.cvtColor(frame, cv2.COLOR_BGR2GRAY)\n",
    "    \n",
    "    cv2.imshow('frame', gray)\n",
    "    #cv2.imshow('frameColor', frame)\n",
    "    if cv2.waitKey(1) & 0xFF == ord('q'):\n",
    "        break\n",
    "\n",
    "cap.release()\n",
    "cv2.destroyAllWindows()"
   ]
  },
  {
   "cell_type": "code",
   "execution_count": null,
   "metadata": {
    "collapsed": true
   },
   "outputs": [],
   "source": [
    "cv2.line(img, (0, 0), (200, 300), (255, 255, 255), 50)\n",
    "cv2.rectangle(img, (500, 250), (1000, 500), (0, 0, 255), 15)\n",
    "cv2.circle(img, (447, 63), 63, (0, 255, 0), -1)\n",
    "pts = np.array([[100, 50], [200, 300], [700, 200], [500, 100]], np.int32)\n",
    "pts = pts.reshape((-1, 1, 2))\n",
    "cv2.polylines(img, [pts], True, (0, 255, 255), 3)\n",
    "font = cv2.FONT_HERSHEY_SIMPLEX\n",
    "cv2.putText(img, 'OpenCV Tuts!', (10, 500), font, 6, (200, 255, 155), 13, cv2.LINE_AA)\n",
    "cv2.imshow('image', img)\n",
    "cv2.waitKey(0)\n",
    "cv2.destroyAllWindows()"
   ]
  },
  {
   "cell_type": "code",
   "execution_count": null,
   "metadata": {},
   "outputs": [],
   "source": [
    "cap = cv2.VideoCapture(0)\n",
    "with detection_graph.as_default():\n",
    "    with tf.Session(graph=detection_graph) as sess:\n",
    "        # Definite input and output Tensors for detection_graph\n",
    "        image_tensor = detection_graph.get_tensor_by_name('image_tensor:0')\n",
    "        # Each box represents a part of the image where a particular object was detected.\n",
    "        detection_boxes = detection_graph.get_tensor_by_name('detection_boxes:0')\n",
    "        # Each score represent how level of confidence for each of the objects.\n",
    "        # Score is shown on the result image, together with the class label.\n",
    "        detection_scores = detection_graph.get_tensor_by_name('detection_scores:0')\n",
    "        detection_classes = detection_graph.get_tensor_by_name('detection_classes:0')\n",
    "        num_detections = detection_graph.get_tensor_by_name('num_detections:0')\n",
    "        while True:\n",
    "            ret, image_np = cap.read()\n",
    "            # Expand dimensions since the model expects images to have shape: [1, None, None, 3]\n",
    "            image_np_expanded = np.expand_dims(image_np, axis=0)\n",
    "            # Actual detection.\n",
    "            (boxes, scores, classes, num) = sess.run(\n",
    "              [detection_boxes, detection_scores, detection_classes, num_detections],\n",
    "              feed_dict={image_tensor: image_np_expanded})\n",
    "            # Visualization of the results of a detection.\n",
    "            vis_util.visualize_boxes_and_labels_on_image_array(\n",
    "              image_np,\n",
    "              np.squeeze(boxes),\n",
    "              np.squeeze(classes).astype(np.int32),\n",
    "              np.squeeze(scores),\n",
    "              category_index,\n",
    "              use_normalized_coordinates=True,\n",
    "              line_thickness=8)\n",
    "            cv2.imshow('object detection', cv2.resize(image_np, (800, 600)))\n",
    "            if cv2.waitKey(25) & 0xFF == ord('q'):\n",
    "                cap.release()\n",
    "                cv2.destroyAllWindows()\n",
    "                break"
   ]
  },
  {
   "cell_type": "code",
   "execution_count": null,
   "metadata": {},
   "outputs": [],
   "source": [
    "# Images were found online by scraping the html for img tags and their src property. Easy with yahoo.\n",
    "PATH_TO_TRAIN_IMAGES_DIR = 'basketball_images'\n",
    "images = [\n",
    "\"https://tse3.mm.bing.net/th?id=OIP.ySsyta7lwgCVhgywGNdR9wFZC0&amp;pid=15.1&amp;P=0&amp;w=300&amp;h=300\",\n",
    "\"https://tse1.mm.bing.net/th?id=OIP._ICtXB5vjMFn9kbN6CbIxQEyDM&amp;pid=15.1&amp;P=0&amp;w=300&amp;h=300\",\n",
    "\"https://tse4.mm.bing.net/th?id=OIP.IydvLPf3gaMzBgJQLOPrkgEsDh&amp;pid=15.1&amp;P=0&amp;w=300&amp;h=300\",\n",
    "\"https://tse2.mm.bing.net/th?id=OIP.TrJ1pIVfUv4nnDUdDvUl8QEsDH&amp;pid=15.1&amp;P=0&amp;w=300&amp;h=300\",\n",
    "\"https://tse3.mm.bing.net/th?id=OIP.Lg4dqBN7C4dc9BS4nJOluAEsDa&amp;pid=15.1&amp;P=0&amp;w=300&amp;h=300\",\n",
    "\"https://tse4.mm.bing.net/th?id=OIP.I9yh7AZZrCEAPXXFJ_c2eQEyDM&amp;pid=15.1&amp;P=0&amp;w=300&amp;h=300\",\n",
    "\"https://tse1.mm.bing.net/th?id=OIP.BXrqeW9tCAI6eVIiNfnJXgEsDG&amp;pid=15.1&amp;P=0&amp;w=300&amp;h=300\",\n",
    "\"https://tse2.mm.bing.net/th?id=OIP.MCmQdmjsEGQBjMO-2LCOZwEsDW&amp;pid=15.1&amp;P=0&amp;w=300&amp;h=300\",\n",
    "\"https://tse4.mm.bing.net/th?id=OIP.VUBnyiXRlhe4j4Og2xGDjwEsCo&amp;pid=15.1&amp;P=0&amp;w=300&amp;h=300\",\n",
    "\"https://tse1.mm.bing.net/th?id=OIP._65-PBhjvLvILP7rqIVa6ADIEs&amp;pid=15.1&amp;P=0&amp;w=300&amp;h=300\",\n",
    "\"https://tse1.mm.bing.net/th?id=OIP.YKQxSdgyUza9-HC3BZMtKAEsDx&amp;pid=15.1&amp;P=0&amp;w=300&amp;h=300\",\n",
    "\"https://tse4.mm.bing.net/th?id=OIP.vHF8NAQnP3IQ5ZmFBJMn6gEsCy&amp;pid=15.1&amp;P=0&amp;w=300&amp;h=300\",\n",
    "\"https://tse3.mm.bing.net/th?id=OIP.9HIuOs7gsm1UIcG4ILdHbAEsCW&amp;pid=15.1&amp;P=0&amp;w=300&amp;h=300\",\n",
    "\"https://tse3.mm.bing.net/th?id=OIP.rgT18ovHFnGnsT2ggprOlwEsDX&amp;pid=15.1&amp;P=0&amp;w=300&amp;h=300\",\n",
    "\"https://tse2.mm.bing.net/th?id=OIP.VTB7peoKMan4GLckcMyPgwEsCo&amp;pid=15.1&amp;P=0&amp;w=300&amp;h=300\",\n",
    "\"https://tse1.mm.bing.net/th?id=OIP.tdnKc4__G3bEktkGPeC1OQEsDK&amp;pid=15.1&amp;P=0&amp;w=300&amp;h=300\",\n",
    "\"https://tse4.mm.bing.net/th?id=OIP.3liD8SWEQjOv2iO0uabE7QEsCo&amp;pid=15.1&amp;P=0&amp;w=300&amp;h=300\",\n",
    "\"https://tse3.mm.bing.net/th?id=OIP.2-CBhfskEsAVi4nSZQYHlwEsB9&amp;pid=15.1&amp;P=0&amp;w=300&amp;h=300\",\n",
    "\"https://tse1.mm.bing.net/th?id=OIP.ttaHMaO6N5QXOAo3Xajp-QEsDH&amp;pid=15.1&amp;P=0&amp;w=300&amp;h=300\",\n",
    "\"https://tse4.mm.bing.net/th?id=OIP.Z6OtFs4GnISOdd4jk2cDfwEsDa&amp;pid=15.1&amp;P=0&amp;w=300&amp;h=300\",\n",
    "\"https://tse3.mm.bing.net/th?id=OIP.LaJaXm61sgtbzakW_-fk3AEsDQ&amp;pid=15.1&amp;P=0&amp;w=300&amp;h=300\",\n",
    "\"https://tse4.mm.bing.net/th?id=OIP.Wf5wLahgSD3IggzVh4BatADHEs&amp;pid=15.1&amp;P=0&amp;w=300&amp;h=300\",\n",
    "\"https://tse2.mm.bing.net/th?id=OIP.tfKBQkfIlSKfKoSNNL7F2wEsCo&amp;pid=15.1&amp;P=0&amp;w=300&amp;h=300\",\n",
    "\"https://tse4.mm.bing.net/th?id=OIP.GwpBB_PjtjfvgdNX_D_zSQEsC7&amp;pid=15.1&amp;P=0&amp;w=300&amp;h=300\",\n",
    "\"https://tse3.mm.bing.net/th?id=OIP.bw9YcJkURC7B-XhB6NMIpgEsDh&amp;pid=15.1&amp;P=0&amp;w=300&amp;h=300\",\n",
    "\"https://tse1.mm.bing.net/th?id=OIP.xO8pjpXZn3PR3XaSEfF3xQEsDk&amp;pid=15.1&amp;P=0&amp;w=300&amp;h=300\",\n",
    "\"https://tse1.mm.bing.net/th?id=OIP.BwuKQU2dE-hxsB6FOQfy0AEsDF&amp;pid=15.1&amp;P=0&amp;w=300&amp;h=300\",\n",
    "\"https://tse2.mm.bing.net/th?id=OIP.D9ii-ajlWLLKB8kF_DTVJwEsDI&amp;pid=15.1&amp;P=0&amp;w=300&amp;h=300\",\n",
    "\"https://tse3.mm.bing.net/th?id=OIP.xwrGi1pYUinKuKh6yrEKBwEpDR&amp;pid=15.1&amp;P=0&amp;w=300&amp;h=300\",\n",
    "\"https://tse4.mm.bing.net/th?id=OIP.lXH8ZQtZbstfI1iJ8ZAg3gEyDL&amp;pid=15.1&amp;P=0&amp;w=300&amp;h=300\",\n",
    "\"https://tse3.mm.bing.net/th?id=OIP._7R6ZLkxUUbOtYGkU0wAEAEsCz&amp;pid=15.1&amp;P=0&amp;w=300&amp;h=300\",\n",
    "\"https://tse3.mm.bing.net/th?id=OIP.5zFjWcHP1qziS9xzOrMxRAEsCz&amp;pid=15.1&amp;P=0&amp;w=300&amp;h=300\",\n",
    "\"https://tse4.mm.bing.net/th?id=OIP.8i1RAaxHmjSI3MDTba2dkQDbEs&amp;pid=15.1&amp;P=0&amp;w=300&amp;h=300\",\n",
    "\"https://tse1.mm.bing.net/th?id=OIP.v9oCkfl4L5-n1kezKndN_AEsDh&amp;pid=15.1&amp;P=0&amp;w=300&amp;h=300\",\n",
    "\"https://tse3.mm.bing.net/th?id=OIP.RpuLW_CEy2Xt7OyUPib8hAEsDh&amp;pid=15.1&amp;P=0&amp;w=300&amp;h=300\",\n",
    "\"https://tse2.mm.bing.net/th?id=OIP.GW_W9JWxm0HfMVPCGSaV9AEsDH&amp;pid=15.1&amp;P=0&amp;w=300&amp;h=300\",\n",
    "\"https://tse3.mm.bing.net/th?id=OIP.elqOfnKiEMnR_EsslsfyWQEsCz&amp;pid=15.1&amp;P=0&amp;w=300&amp;h=300\",\n",
    "\"https://tse1.mm.bing.net/th?id=OIP.0Cc8bqeBTcH3YF41SEwOJAEsDg&amp;pid=15.1&amp;P=0&amp;w=300&amp;h=300\",\n",
    "\"https://tse1.mm.bing.net/th?id=OIP.O2SVy2PRT8oS16JJRmVZ8AEsCz&amp;pid=15.1&amp;P=0&amp;w=300&amp;h=300\",\n",
    "\"https://tse2.mm.bing.net/th?id=OIP.MaEKEIZgJ1hb-xPZkNO_ogEsDA&amp;pid=15.1&amp;P=0&amp;w=300&amp;h=300\",\n",
    "\"https://tse2.mm.bing.net/th?id=OIP.XFHlD5z8odiWwyBuSEXi9wEsC7&amp;pid=15.1&amp;P=0&amp;w=300&amp;h=300\",\n",
    "\"https://tse3.mm.bing.net/th?id=OIP.LpytSlL-ehBZFHjkxx_AewFNC7&amp;pid=15.1&amp;P=0&amp;w=300&amp;h=300\",\n",
    "\"https://tse1.mm.bing.net/th?id=OIP.yay3yrSbMbV6eflds6Dj2wEyDL&amp;pid=15.1&amp;P=0&amp;w=300&amp;h=300\",\n",
    "\"https://tse1.mm.bing.net/th?id=OIP.f-AD7LJpUHsWl5TkbQtFPgEsDd&amp;pid=15.1&amp;P=0&amp;w=300&amp;h=300\",\n",
    "\"https://tse4.mm.bing.net/th?id=OIP.E9d5G4jKsOLr994RrcxXoAEsDg&amp;pid=15.1&amp;P=0&amp;w=300&amp;h=300\",\n",
    "\"https://tse1.mm.bing.net/th?id=OIP.jNDFxKgbkSuS8FspJnnnGQD9Es&amp;pid=15.1&amp;P=0&amp;w=300&amp;h=300\",\n",
    "\"https://tse3.mm.bing.net/th?id=OIP.oDf_uozNwEL2mkZBCkwg-wEyDM&amp;pid=15.1&amp;P=0&amp;w=300&amp;h=300\",\n",
    "\"https://tse4.mm.bing.net/th?id=OIP.DcHx35KvJ7dPAvGtuNGQDwEqDR&amp;pid=15.1&amp;P=0&amp;w=300&amp;h=300\",\n",
    "\"https://tse4.mm.bing.net/th?id=OIP.CocF394JTRqb9Aav_yF6CAEsDH&amp;pid=15.1&amp;P=0&amp;w=300&amp;h=300\",\n",
    "\"https://tse2.mm.bing.net/th?id=OIP.ocNWISig1TwacSSeXZr2FAEsDh&amp;pid=15.1&amp;P=0&amp;w=300&amp;h=300\",\n",
    "\"https://tse2.mm.bing.net/th?id=OIP.4XHi9XyDm3EEb2DYXvIuPAEsDc&amp;pid=15.1&amp;P=0&amp;w=300&amp;h=300\",\n",
    "\"https://tse2.mm.bing.net/th?id=OIP.U7yUoDbgBiEZsxZYjYPDZAEsDh&amp;pid=15.1&amp;P=0&amp;w=300&amp;h=300\",\n",
    "\"https://tse3.mm.bing.net/th?id=OIP.uBkfvYMbfhscUrKrLv-W8wEsDh&amp;pid=15.1&amp;P=0&amp;w=300&amp;h=300\",\n",
    "\"https://tse4.mm.bing.net/th?id=OIP.V7TO51v05D8w6iF6zVq5yQEsCo&amp;pid=15.1&amp;P=0&amp;w=300&amp;h=300\",\n",
    "\"https://tse3.mm.bing.net/th?id=OIP.W0u_C0k_rEtHBTCcQ60lewEXDf&amp;pid=15.1&amp;P=0&amp;w=300&amp;h=300\",\n",
    "\"https://tse1.mm.bing.net/th?id=OIP.S1itt1W9IaajeW5AKeexfwE5DH&amp;pid=15.1&amp;P=0&amp;w=300&amp;h=300\",\n",
    "\"https://tse4.mm.bing.net/th?id=OIP.gda7kyHs7sEgNdgtNdknfAEsEs&amp;pid=15.1&amp;P=0&amp;w=300&amp;h=300\",\n",
    "\"https://tse4.mm.bing.net/th?id=OIP.vyzXKU9bRsmagL46IaWZGAEsDx&amp;pid=15.1&amp;P=0&amp;w=300&amp;h=300\",\n",
    "\"https://tse1.mm.bing.net/th?id=OIP.7Z1572ue677JaF6d5sGtxAEsDV&amp;pid=15.1&amp;P=0&amp;w=300&amp;h=300\",\n",
    "\"https://tse3.mm.bing.net/th?id=OIP.jfVPdvxCHGfyIgNZVeI2BgDQEs&amp;pid=15.1&amp;P=0&amp;w=300&amp;h=300\",\n",
    "\"https://tse2.mm.bing.net/th?id=OIP.VIeSqtCdJ-NiR0an4Ec86QEsDh&amp;pid=15.1&amp;P=0&amp;w=300&amp;h=300\",\n",
    "\"https://tse3.mm.bing.net/th?id=OIP.LoiD8d8YkAtddivYjLr47wEsDh&amp;pid=15.1&amp;P=0&amp;w=300&amp;h=300\",\n",
    "\"https://tse1.mm.bing.net/th?id=OIP.C3UcXH2ehJZI8SMurJC0hADhEs&amp;pid=15.1&amp;P=0&amp;w=300&amp;h=300\",\n",
    "\"https://tse1.mm.bing.net/th?id=OIP.8i4g53nx5NQPmkuSDvJyXAEsDH&amp;pid=15.1&amp;P=0&amp;w=300&amp;h=300\",\n",
    "\"https://tse1.mm.bing.net/th?id=OIP.G5IDCZMbqR3uHR3Mb9vlOgEsDS&amp;pid=15.1&amp;P=0&amp;w=300&amp;h=300\",\n",
    "\"https://tse1.mm.bing.net/th?id=OIP.w2P7NV-nVj_oGL8O_aj_JQEsDI&amp;pid=15.1&amp;P=0&amp;w=300&amp;h=300\",\n",
    "\"https://tse2.mm.bing.net/th?id=OIP.q5k5m5X4erjPNdI6p8uibwEfEs&amp;pid=15.1&amp;P=0&amp;w=300&amp;h=300\",\n",
    "\"https://tse4.mm.bing.net/th?id=OIP.9HVzJURy2iR-q_a58gRnwwEsDI&amp;pid=15.1&amp;P=0&amp;w=300&amp;h=300\",\n",
    "\"https://tse2.mm.bing.net/th?id=OIP.9laCPmSev-_6_3YVLjzQawEuDO&amp;pid=15.1&amp;P=0&amp;w=300&amp;h=300\",\n",
    "\"https://tse1.mm.bing.net/th?id=OIP.50UBowMpeXjn9H_xTBJbVgEsCo&amp;pid=15.1&amp;P=0&amp;w=300&amp;h=300\",\n",
    "\"https://tse1.mm.bing.net/th?id=OIP.MWMBAcsnJjUA9h3l7407OwDcEs&amp;pid=15.1&amp;P=0&amp;w=300&amp;h=300\",\n",
    "\"https://tse4.mm.bing.net/th?id=OIP.0AdfjzRr-FOnq4LtI0Yk-wDhEs&amp;pid=15.1&amp;P=0&amp;w=300&amp;h=300\",\n",
    "\"https://tse3.mm.bing.net/th?id=OIP.3NV3i8UPqGJj5NouJk4UawDIDI&amp;pid=15.1&amp;P=0&amp;w=300&amp;h=300\",\n",
    "\"https://tse4.mm.bing.net/th?id=OIP.dY0v5ByBH0YKlycDwE9D6gEyDM&amp;pid=15.1&amp;P=0&amp;w=300&amp;h=300\",\n",
    "\"https://tse1.mm.bing.net/th?id=OIP._zOnUUGejgCIfUrRLn3AwQEsC0&amp;pid=15.1&amp;P=0&amp;w=300&amp;h=300\",\n",
    "\"https://tse1.mm.bing.net/th?id=OIP.3umPY5EYfD-nDWKuV6NjxAEsDh&amp;pid=15.1&amp;P=0&amp;w=300&amp;h=300\",\n",
    "\"https://tse2.mm.bing.net/th?id=OIP.7T3w2pAKdkvM-TvaeIYBhwEsCk&amp;pid=15.1&amp;P=0&amp;w=300&amp;h=300\",\n",
    "\"https://tse3.mm.bing.net/th?id=OIP.Gt3dWmHpGgWzN57pBG_zJgEsEe&amp;pid=15.1&amp;P=0&amp;w=300&amp;h=300\",\n",
    "\"https://tse4.mm.bing.net/th?id=OIP.RwMS4mclSXcxAJvn1PnqtwEsDU&amp;pid=15.1&amp;P=0&amp;w=300&amp;h=300\",\n",
    "\"https://tse1.mm.bing.net/th?id=OIP.ZXGFslYtE07q8yEo1LOb2AEsDI&amp;pid=15.1&amp;P=0&amp;w=300&amp;h=300\",\n",
    "\"https://tse1.mm.bing.net/th?id=OIP.TXCgF1jgcC-b_MMdtT2vpAEsBo&amp;pid=15.1&amp;P=0&amp;w=300&amp;h=300\",\n",
    "\"https://tse4.mm.bing.net/th?id=OIP.Itzh3tJMZpNdVX9q1VVwmQEsDS&amp;pid=15.1&amp;P=0&amp;w=300&amp;h=300\",\n",
    "\"https://tse2.mm.bing.net/th?id=OIP.-oFVpcHMKeblGy__p1KeIAEsEs&amp;pid=15.1&amp;P=0&amp;w=300&amp;h=300\",\n",
    "\"https://tse3.mm.bing.net/th?id=OIP.H4GtY6W9R1efPDl734l_TQEyDM&amp;pid=15.1&amp;P=0&amp;w=300&amp;h=300\",\n",
    "\"https://tse3.mm.bing.net/th?id=OIP.ne42Wv4Od-iGOd-N25VcLQC7Es&amp;pid=15.1&amp;P=0&amp;w=300&amp;h=300\",\n",
    "\"https://tse3.mm.bing.net/th?id=OIP.34NO_9aHOb1-E2g0b3dF1gEsDH&amp;pid=15.1&amp;P=0&amp;w=300&amp;h=300\",\n",
    "\"https://tse1.mm.bing.net/th?id=OIP.17prONJyJeo46Y58hFOPDgEsDh&amp;pid=15.1&amp;P=0&amp;w=300&amp;h=300\",\n",
    "\"https://tse2.mm.bing.net/th?id=OIP.i9MYW6v0_Q46Cvm4KBIyJAEsDH&amp;pid=15.1&amp;P=0&amp;w=300&amp;h=300\",\n",
    "\"https://tse3.mm.bing.net/th?id=OIP.oKCG7wJKe_SQCoDYSsZSywEsCo&amp;pid=15.1&amp;P=0&amp;w=300&amp;h=300\",\n",
    "\"https://tse1.mm.bing.net/th?id=OIP.dspjFNbsxFEMECLbMSM3ZgEsCA&amp;pid=15.1&amp;P=0&amp;w=300&amp;h=300\",\n",
    "\"https://tse4.mm.bing.net/th?id=OIP.SY222zxx4ebG_oXZ_Ixj6wEsDH&amp;pid=15.1&amp;P=0&amp;w=300&amp;h=300\",\n",
    "\"https://tse3.mm.bing.net/th?id=OIP.MZW64XjY8lGHl4PcxBJrDwEsDM&amp;pid=15.1&amp;P=0&amp;w=300&amp;h=300\",\n",
    "\"https://tse4.mm.bing.net/th?id=OIP.V7XYrZ4ezsBCQ8w_lJaIegEsDH&amp;pid=15.1&amp;P=0&amp;w=300&amp;h=300\",\n",
    "\"https://tse2.mm.bing.net/th?id=OIP.6V1hQMTKfJNgcXm93HnYrwEsC7&amp;pid=15.1&amp;P=0&amp;w=300&amp;h=300\",\n",
    "\"https://tse2.mm.bing.net/th?id=OIP.IuwuQ-zrv75WNvlqxz67bgEsCW&amp;pid=15.1&amp;P=0&amp;w=300&amp;h=300\",\n",
    "\"https://tse3.mm.bing.net/th?id=OIP.htbAESXGRJEb7AbLupBudAEsDh&amp;pid=15.1&amp;P=0&amp;w=300&amp;h=300\",\n",
    "\"https://tse4.mm.bing.net/th?id=OIP.4WnmOou1FZdsLDJZB6TtKgEsDA&amp;pid=15.1&amp;P=0&amp;w=300&amp;h=300\",\n",
    "\"https://tse3.mm.bing.net/th?id=OIP._shRuGsaCgC4ZrG-t2kV6wEsCo&amp;pid=15.1&amp;P=0&amp;w=300&amp;h=300\",\n",
    "\"https://tse1.mm.bing.net/th?id=OIP.uOGT3Y-1pmjL5DTXyHV4lgEsCo&amp;pid=15.1&amp;P=0&amp;w=300&amp;h=300\",\n",
    "\"https://tse3.mm.bing.net/th?id=OIP.pr1DOxC1zwC3lOVEttrHnwEJEs&amp;pid=15.1&amp;P=0&amp;w=300&amp;h=300\",\n",
    "\"https://tse3.mm.bing.net/th?id=OIP.naFhm0j3n-Rt87LzHwLqBwEyDM&amp;pid=15.1&amp;P=0&amp;w=300&amp;h=300\",\n",
    "\"https://tse1.mm.bing.net/th?id=OIP.chgTPRZmlPXq7O41vCZpwQDIEs&amp;pid=15.1&amp;P=0&amp;w=300&amp;h=300\",\n",
    "\"https://tse4.mm.bing.net/th?id=OIP.9Z-arDhJrNjsp_dLFvvooQEyDL&amp;pid=15.1&amp;P=0&amp;w=300&amp;h=300\",\n",
    "\"https://tse4.mm.bing.net/th?id=OIP.FnQoXghBHAnZiDLLIQcAcwEhDX&amp;pid=15.1&amp;P=0&amp;w=300&amp;h=300\",\n",
    "\"https://tse3.mm.bing.net/th?id=OIP.0rHZ-r0lwbzWgWBCCrUlmgEsDI&amp;pid=15.1&amp;P=0&amp;w=300&amp;h=300\",\n",
    "\"https://tse2.mm.bing.net/th?id=OIP.6V1hQMTKfJNgcXm93HnYrwEsC7&amp;pid=15.1&amp;P=0&amp;w=300&amp;h=300\",\n",
    "\"https://tse1.mm.bing.net/th?id=OIP.bpVo0duL_qxCnVos83JcZwEsDH&amp;pid=15.1&amp;P=0&amp;w=300&amp;h=300\",\n",
    "\"https://tse2.mm.bing.net/th?id=OIP.FnQoXghBHAnZiDLLIQcAcwEhDX&amp;pid=15.1&amp;P=0&amp;w=300&amp;h=300\",\n",
    "\"https://tse2.mm.bing.net/th?id=OIP.sxZeDV6VaopQq-lc_vM1zwEsCp&amp;pid=15.1&amp;P=0&amp;w=300&amp;h=300\",\n",
    "\"https://tse3.mm.bing.net/th?id=OIP.IuwuQ-zrv75WNvlqxz67bgEsCW&amp;pid=15.1&amp;P=0&amp;w=300&amp;h=300\",\n",
    "\"https://tse4.mm.bing.net/th?id=OIP.iYQ0V8Gp-uPkQzQfs_gG3AEqDR&amp;pid=15.1&amp;P=0&amp;w=300&amp;h=300\",\n",
    "\"https://tse4.mm.bing.net/th?id=OIP.0rHZ-r0lwbzWgWBCCrUlmgEsDI&amp;pid=15.1&amp;P=0&amp;w=300&amp;h=300\",\n",
    "\"https://tse4.mm.bing.net/th?id=OIP.htbAESXGRJEb7AbLupBudAEsDh&amp;pid=15.1&amp;P=0&amp;w=300&amp;h=300\",\n",
    "\"https://tse1.mm.bing.net/th?id=OIP.iYaGG8x7-tdIzpVnrYgXuAEgDY&amp;pid=15.1&amp;P=0&amp;w=300&amp;h=300\",\n",
    "\"https://tse2.mm.bing.net/th?id=OIP.4XHi9XyDm3EEb2DYXvIuPAEsDc&amp;pid=15.1&amp;P=0&amp;w=300&amp;h=300\",\n",
    "\"https://tse4.mm.bing.net/th?id=OIP.DzV84uU622idtk55B1b8bgDDEs&amp;pid=15.1&amp;P=0&amp;w=300&amp;h=300\",\n",
    "\"https://tse1.mm.bing.net/th?id=OIP.q4fL9aOdyq2SI05mfE-gwgEsDh&amp;pid=15.1&amp;P=0&amp;w=300&amp;h=300\",\n",
    "\"https://tse1.mm.bing.net/th?id=OIP.chgTPRZmlPXq7O41vCZpwQDIEs&amp;pid=15.1&amp;P=0&amp;w=300&amp;h=300\",\n",
    "\"https://tse3.mm.bing.net/th?id=OIP.S_ZYnyj1qBi8VjhYCg2_uAEsDG&amp;pid=15.1&amp;P=0&amp;w=300&amp;h=300\",\n",
    "\"https://tse1.mm.bing.net/th?id=OIP.uOGT3Y-1pmjL5DTXyHV4lgEsCo&amp;pid=15.1&amp;P=0&amp;w=300&amp;h=300\",\n",
    "\"https://tse4.mm.bing.net/th?id=OIP.3Bvwxn2XaMvB-MMWKNvFLgEsDH&amp;pid=15.1&amp;P=0&amp;w=300&amp;h=300\",\n",
    "\"https://tse4.mm.bing.net/th?id=OIP.0CtJMn-G4u08rjFVLxnrUgEsBz&amp;pid=15.1&amp;P=0&amp;w=300&amp;h=300\",\n",
    "\"https://tse3.mm.bing.net/th?id=OIP.yQPoagucXsKPrGb_Af9SuQEyDL&amp;pid=15.1&amp;P=0&amp;w=300&amp;h=300\",\n",
    "\"https://tse1.mm.bing.net/th?id=OIP.9Z-arDhJrNjsp_dLFvvooQEyDL&amp;pid=15.1&amp;P=0&amp;w=300&amp;h=300\",\n",
    "\"https://tse4.mm.bing.net/th?id=OIP.JvuyB2sDSK2taNOnV93x5gEsDG&amp;pid=15.1&amp;P=0&amp;w=300&amp;h=300\",\n",
    "\"https://tse3.mm.bing.net/th?id=OIP.yTqgE6zYCXR6-Rw42mGQqgEsCo&amp;pid=15.1&amp;P=0&amp;w=300&amp;h=300\",\n",
    "\"https://tse1.mm.bing.net/th?id=OIP.Qhn2BOcX1grSduvlOm7TxQCqDo&amp;pid=15.1&amp;P=0&amp;w=300&amp;h=300\",\n",
    "\"https://tse2.mm.bing.net/th?id=OIP.-o0Ie5AZycVPAZ6xMZycTAD-Es&amp;pid=15.1&amp;P=0&amp;w=300&amp;h=300\",\n",
    "\"https://tse2.mm.bing.net/th?id=OIP.5tR4e6OqgWanRQSdyIxAzAFNC7&amp;pid=15.1&amp;P=0&amp;w=300&amp;h=300\",\n",
    "\"https://tse4.mm.bing.net/th?id=OIP.NUNBFsofwVDTTSSM0EEn1QC7Es&amp;pid=15.1&amp;P=0&amp;w=300&amp;h=300\",\n",
    "\"https://tse2.mm.bing.net/th?id=OIP.ca434k8pGrVxko53PCXtdQEsDI&amp;pid=15.1&amp;P=0&amp;w=300&amp;h=300\",\n",
    "\"https://tse3.mm.bing.net/th?id=OIP.GyvR0LCceYB1dd4M-xdRGQEsCo&amp;pid=15.1&amp;P=0&amp;w=300&amp;h=300\",\n",
    "\"https://tse1.mm.bing.net/th?id=OIP.Nbgl1veRKHpHO4a7cbYBJwEsCo&amp;pid=15.1&amp;P=0&amp;w=300&amp;h=300\",\n",
    "\"https://tse4.mm.bing.net/th?id=OIP.gzc97pV6bSkaLdfp0EizrAEsDI&amp;pid=15.1&amp;P=0&amp;w=300&amp;h=300\",\n",
    "\"https://tse1.mm.bing.net/th?id=OIP.93wNqRm7Y9eF-8sl0TlxSwEsCo&amp;pid=15.1&amp;P=0&amp;w=300&amp;h=300\",\n",
    "\"https://tse4.mm.bing.net/th?id=OIP.SNlmaPjEecnG2YFy7TvlaQDYEs&amp;pid=15.1&amp;P=0&amp;w=300&amp;h=300\",\n",
    "\"https://tse3.mm.bing.net/th?id=OIP.pr1DOxC1zwC3lOVEttrHnwEJEs&amp;pid=15.1&amp;P=0&amp;w=300&amp;h=300\",\n",
    "\"https://tse1.mm.bing.net/th?id=OIP.AxHw7-V6RAGucHAYVK5kKgEsDS&amp;pid=15.1&amp;P=0&amp;w=300&amp;h=300\",\n",
    "\"https://tse2.mm.bing.net/th?id=OIP.Dly3aQk9Os7881soFmUU9QEsDS&amp;pid=15.1&amp;P=0&amp;w=300&amp;h=300\",\n",
    "\"https://tse1.mm.bing.net/th?id=OIP.6tICQiqJ9kGVrpnXFCGl-wEsDd&amp;pid=15.1&amp;P=0&amp;w=300&amp;h=300\",\n",
    "\"https://tse3.mm.bing.net/th?id=OIP.6pvahpNAaqJ-M5Oe1w0o_gEsDg&amp;pid=15.1&amp;P=0&amp;w=300&amp;h=300\",\n",
    "\"https://tse2.mm.bing.net/th?id=OIP.qWG2PO3wgNQGqtuIbVySOQEsDk&amp;pid=15.1&amp;P=0&amp;w=300&amp;h=300\",\n",
    "\"https://tse1.mm.bing.net/th?id=OIP.QYVfMbHDNKZ-h0crWqmS0QEsDh&amp;pid=15.1&amp;P=0&amp;w=300&amp;h=300\",\n",
    "\"https://tse2.mm.bing.net/th?id=OIP.T_r4M5DUa3PYnmGIPTWkPAEsCo&amp;pid=15.1&amp;P=0&amp;w=300&amp;h=300\",\n",
    "\"https://tse4.mm.bing.net/th?id=OIP.qw_veNoI6dq5_0IvH2YrRQC0Bv&amp;pid=15.1&amp;P=0&amp;w=300&amp;h=300\",\n",
    "\"https://tse1.mm.bing.net/th?id=OIP._Z8H0N1TKIGEf5HY-nxdMAEsCo&amp;pid=15.1&amp;P=0&amp;w=300&amp;h=300\",\n",
    "\"https://tse3.mm.bing.net/th?id=OIP.L7om6V-6ktaaTDdPmscJhgEsCh&amp;pid=15.1&amp;P=0&amp;w=300&amp;h=300\",\n",
    "\"https://tse1.mm.bing.net/th?id=OIP.8cSrNCIIRxXf105rDzmmvADwEs&amp;pid=15.1&amp;P=0&amp;w=300&amp;h=300\",\n",
    "\"https://tse1.mm.bing.net/th?id=OIP.UqJ-SiAW728RkL1YhZLWvAC7FN&amp;pid=15.1&amp;P=0&amp;w=300&amp;h=300\",\n",
    "\"https://tse3.mm.bing.net/th?id=OIP.-8sppfUg-9-ZNR9Tv_XiLAEsCo&amp;pid=15.1&amp;P=0&amp;w=300&amp;h=300\",\n",
    "\"https://tse2.mm.bing.net/th?id=OIP.LVeSzBiLsilq49jCtMDonwEsCp&amp;pid=15.1&amp;P=0&amp;w=300&amp;h=300\",\n",
    "\"https://tse2.mm.bing.net/th?id=OIP.mdkJIiXz_Jrz_RLpqwZk5QEsB4&amp;pid=15.1&amp;P=0&amp;w=300&amp;h=300\",\n",
    "\"https://tse1.mm.bing.net/th?id=OIP.wg8K_fyqVaI6o2HOLhKz2QEsDI&amp;pid=15.1&amp;P=0&amp;w=300&amp;h=300\",\n",
    "\"https://tse1.mm.bing.net/th?id=OIP.OcdNQPQe65eTLhpkL0VQ_gEsCo&amp;pid=15.1&amp;P=0&amp;w=300&amp;h=300\",\n",
    "\"https://tse1.mm.bing.net/th?id=OIP.J6f93GTA63oClPzyI8Ct3AEsDW&amp;pid=15.1&amp;P=0&amp;w=300&amp;h=300\",\n",
    "\"https://tse3.mm.bing.net/th?id=OIP.mFYmUOhtZGc3eSy06Tgo9QEsDT&amp;pid=15.1&amp;P=0&amp;w=300&amp;h=300\",\n",
    "\"https://tse2.mm.bing.net/th?id=OIP.HBjUPlq8ijL7lg2AIP2R8AEsDn&amp;pid=15.1&amp;P=0&amp;w=300&amp;h=300\",\n",
    "\"https://tse4.mm.bing.net/th?id=OIP.DbKdhlymmguL-TtNVbqJcwEsC7&amp;pid=15.1&amp;P=0&amp;w=300&amp;h=300\",\n",
    "\"https://tse3.mm.bing.net/th?id=OIP.0zzA4uTJFHifiJWB5dJeZwEsCo&amp;pid=15.1&amp;P=0&amp;w=300&amp;h=300\",\n",
    "\"https://tse3.mm.bing.net/th?id=OIP.igMUgPUTWiazigS1ggsMIwEsDH&amp;pid=15.1&amp;P=0&amp;w=300&amp;h=300\",\n",
    "\"https://tse4.mm.bing.net/th?id=OIP.e-VAfpbAWBRobSxMzmP_OAEsDI&amp;pid=15.1&amp;P=0&amp;w=300&amp;h=300\",\n",
    "\"https://tse3.mm.bing.net/th?id=OIP.0i2hEuprimbuuphxwyZFYQEmDU&amp;pid=15.1&amp;P=0&amp;w=300&amp;h=300\",\n",
    "\"https://tse2.mm.bing.net/th?id=OIP.33IUPH9jhBPc7yaIae-Z3AEsCo&amp;pid=15.1&amp;P=0&amp;w=300&amp;h=300\",\n",
    "\"https://tse1.mm.bing.net/th?id=OIP.mN4H2hwDu2xE6RJbWn4bCAEsDU&amp;pid=15.1&amp;P=0&amp;w=300&amp;h=300\",\n",
    "\"https://tse2.mm.bing.net/th?id=OIP.5VRBhoOdxTuJ4eDqmgJ9NwFNC7&amp;pid=15.1&amp;P=0&amp;w=300&amp;h=300\",\n",
    "\"https://tse3.mm.bing.net/th?id=OIP.hTy7chUhJxbXRQoLEHZ_NQFNC7&amp;pid=15.1&amp;P=0&amp;w=300&amp;h=300\",\n",
    "\"https://tse1.mm.bing.net/th?id=OIP.FlvvXvVESBZkbvPaxvzYNwDZEs&amp;pid=15.1&amp;P=0&amp;w=300&amp;h=300\",\n",
    "\"https://tse3.mm.bing.net/th?id=OIP.8DeNgZhkUeL2VFLp4xaIWQEHEs&amp;pid=15.1&amp;P=0&amp;w=300&amp;h=300\",\n",
    "\"https://tse1.mm.bing.net/th?id=OIP.0bmV3RU_S3k__VAFgh-oKgEsDI&amp;pid=15.1&amp;P=0&amp;w=300&amp;h=300\",\n",
    "\"https://tse1.mm.bing.net/th?id=OIP.hJyJdbLcauHFE6YfRHCcjgEsCo&amp;pid=15.1&amp;P=0&amp;w=300&amp;h=300\",\n",
    "\"https://tse1.mm.bing.net/th?id=OIP.PNnGJ2oy_Ae2D3DbxgZkPwEsDM&amp;pid=15.1&amp;P=0&amp;w=300&amp;h=300\",\n",
    "\"https://tse1.mm.bing.net/th?id=OIP._2pboFhHi7yrbGG0ehfruAEsDh&amp;pid=15.1&amp;P=0&amp;w=300&amp;h=300\",\n",
    "\"https://tse3.mm.bing.net/th?id=OIP.JiJL_mSEuyckBgDL7-tIiAEsDX&amp;pid=15.1&amp;P=0&amp;w=300&amp;h=300\",\n",
    "\"https://tse1.mm.bing.net/th?id=OIP.7JxpM2x7iYVeguaUSEoKBwEsDh&amp;pid=15.1&amp;P=0&amp;w=300&amp;h=300\"\n",
    "]\n",
    "TRAIN_IMAGE_PATHS = [ os.path.join(PATH_TO_TRAIN_IMAGES_DIR, 'basketball_{}.jpg'.format(i)) for i in range(1, len(images)+1) ]"
   ]
  },
  {
   "cell_type": "code",
   "execution_count": null,
   "metadata": {},
   "outputs": [],
   "source": [
    "opener = urllib.request.URLopener()\n",
    "for i in range(0, len(images)):\n",
    "    print(images[i])\n",
    "    print(TRAIN_IMAGE_PATHS[i])\n",
    "    opener.retrieve(images[i], TRAIN_IMAGE_PATHS[i]) "
   ]
  },
  {
   "cell_type": "code",
   "execution_count": null,
   "metadata": {},
   "outputs": [],
   "source": [
    "np.random.randint(1, 141, 14)"
   ]
  },
  {
   "cell_type": "code",
   "execution_count": null,
   "metadata": {},
   "outputs": [],
   "source": [
    "np.sort([ 27,  54, 119,  43,  10, 136, 127, 114,  60,   3,  35, 117,  84,  15])"
   ]
  },
  {
   "cell_type": "code",
   "execution_count": null,
   "metadata": {
    "collapsed": true
   },
   "outputs": [],
   "source": [
    "import os\n",
    "import glob\n",
    "import pandas as pd\n",
    "import xml.etree.ElementTree as ET\n",
    "\n",
    "\n",
    "def xml_to_csv(path):\n",
    "    xml_list = []\n",
    "    for xml_file in glob.glob(path + '/*.xml'):\n",
    "        tree = ET.parse(xml_file)\n",
    "        root = tree.getroot()\n",
    "        for member in root.findall('object'):\n",
    "            value = (root.find('filename').text,\n",
    "                     int(root.find('size')[0].text),\n",
    "                     int(root.find('size')[1].text),\n",
    "                     member[0].text,\n",
    "                     int(member[4][0].text),\n",
    "                     int(member[4][1].text),\n",
    "                     int(member[4][2].text),\n",
    "                     int(member[4][3].text)\n",
    "                     )\n",
    "            xml_list.append(value)\n",
    "    column_name = ['filename', 'width', 'height', 'class', 'xmin', 'ymin', 'xmax', 'ymax']\n",
    "    xml_df = pd.DataFrame(xml_list, columns=column_name)\n",
    "    return xml_df"
   ]
  },
  {
   "cell_type": "code",
   "execution_count": null,
   "metadata": {},
   "outputs": [],
   "source": [
    "for directory in ['train','test']:\n",
    "    image_path = os.path.join(os.getcwd(), 'images/basketball_images/{}'.format(directory))\n",
    "    xml_df = xml_to_csv(image_path)\n",
    "    xml_df.to_csv('basketball_images/data/{}_labels.csv'.format(directory), index=None)\n",
    "    print('Successfully converted xml to csv.')"
   ]
  },
  {
   "cell_type": "code",
   "execution_count": 6,
   "metadata": {},
   "outputs": [],
   "source": [
    "# What model to download.\n",
    "MODEL_NAME = 'basketball_inference_graph'\n",
    "\n",
    "# Path to frozen detection graph. This is the actual model that is used for the object detection.\n",
    "PATH_TO_CKPT = MODEL_NAME + '/frozen_inference_graph.pb'\n",
    "\n",
    "# List of the strings that is used to add correct label for each box.\n",
    "PATH_TO_LABELS = os.path.join('training', 'object-detection.pbtxt')\n",
    "\n",
    "NUM_CLASSES = 1"
   ]
  },
  {
   "cell_type": "code",
   "execution_count": null,
   "metadata": {
    "collapsed": true
   },
   "outputs": [],
   "source": [
    "PATH_TO_IMAGES_DIR = 'basketball_images'\n",
    "\n",
    "path_train_images = os.path.join(PATH_TO_IMAGES_DIR, 'images/2_train')\n",
    "path_test_images = os.path.join(PATH_TO_IMAGES_DIR, 'images/2_test')\n",
    "\n",
    "if not os.path.exists(path_train_images):\n",
    "    os.makedirs(path_train_images)\n",
    "    \n",
    "if not os.path.exists(path_test_images):\n",
    "    os.makedirs(path_test_images)"
   ]
  },
  {
   "cell_type": "code",
   "execution_count": null,
   "metadata": {},
   "outputs": [],
   "source": [
    "import math\n",
    "np.random.seed(0)\n",
    "\n",
    "# Images\n",
    "image_paths = np.array(glob.glob(os.path.join(PATH_TO_IMAGES_DIR, \"*.jpg\")))\n",
    "np.random.shuffle(image_paths)\n",
    "\n",
    "train_size = math.floor(len(image_paths)*.90)\n",
    "\n",
    "train_images = image_paths[:train_size]\n",
    "test_images = image_paths[train_size:]\n",
    "\n",
    "# Tags\n",
    "train_images_tags = [filename[:-4] + '.xml' for filename in train_images]\n",
    "test_images_tags = [filename[:-4] + '.xml' for filename in test_images]\n"
   ]
  },
  {
   "cell_type": "code",
   "execution_count": null,
   "metadata": {
    "scrolled": true
   },
   "outputs": [],
   "source": [
    "test_images_tags"
   ]
  },
  {
   "cell_type": "code",
   "execution_count": null,
   "metadata": {},
   "outputs": [],
   "source": [
    "for file_path in train_images:\n",
    "    if os.path.exists(file_path):\n",
    "        os.rename(file_path, os.path.join(path_train_images, os.path.basename(file_path)))\n",
    "    \n",
    "for file_path in test_images:\n",
    "    if os.path.exists(file_path):\n",
    "        os.rename(file_path, os.path.join(path_test_images, os.path.basename(file_path)))\n",
    " \n",
    "for file_path in train_images_tags:\n",
    "    if os.path.exists(file_path):\n",
    "        os.rename(file_path, os.path.join(path_train_images, os.path.basename(file_path)))\n",
    "    \n",
    "for file_path in test_images_tags:\n",
    "    if os.path.exists(file_path):\n",
    "        os.rename(file_path, os.path.join(path_test_images, os.path.basename(file_path)))"
   ]
  },
  {
   "cell_type": "code",
   "execution_count": null,
   "metadata": {},
   "outputs": [],
   "source": [
    "test_images"
   ]
  },
  {
   "cell_type": "code",
   "execution_count": null,
   "metadata": {},
   "outputs": [],
   "source": [
    "for directory in ['train','test']:\n",
    "    image_path = os.path.join(os.getcwd(), 'basketball_images/images/{}'.format(directory))\n",
    "    xml_df = xml_to_csv(image_path)\n",
    "    xml_df.to_csv('basketball_images/data/{}_labels.csv'.format(directory), index=None)\n",
    "    print('Successfully converted xml to csv.')"
   ]
  },
  {
   "cell_type": "code",
   "execution_count": null,
   "metadata": {
    "collapsed": true
   },
   "outputs": [],
   "source": [
    "#python generate_tfrecord.py --csv_input=object_detection/basketball_images/data/train_labels.csv --output_path=object_detection/basketball_images/data/train.record --image_path=object_detection/basketball_images/images/train\n",
    "#python generate_tfrecord.py --csv_input=object_detection/basketball_images/data/test_labels.csv --output_path=object_detection/basketball_images/data/test.record --image_path=object_detection/basketball_images/images/test\n",
    "\n",
    "#python export_inference_graph.py --input_type image_tensor --pipeline_config_path training/ssd_mobilenet_v1_pets.config --trained_checkpoint_prefix training/model.ckpt-183 --output_directory basketball_inference_graph"
   ]
  },
  {
   "cell_type": "code",
   "execution_count": null,
   "metadata": {
    "collapsed": true
   },
   "outputs": [],
   "source": []
  }
 ],
 "metadata": {
  "kernelspec": {
   "display_name": "Python 3",
   "language": "python",
   "name": "python3"
  }
 },
 "nbformat": 4,
 "nbformat_minor": 2
}
